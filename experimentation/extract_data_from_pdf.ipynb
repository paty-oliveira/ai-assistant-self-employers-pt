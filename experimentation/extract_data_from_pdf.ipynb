{
 "cells": [
  {
   "cell_type": "markdown",
   "id": "ab2d5eb9",
   "metadata": {},
   "source": [
    "# Playground for extracting information from PDFs\n",
    "\n",
    "## With Llama Index framework\n",
    "\n",
    "Llama Index framework provides two ways to extract information from PDFs:\n",
    "1. Llama Cloud - [LlamaExtract](https://docs.cloud.llamaindex.ai/llamaextract/getting_started/python)\n",
    "2. Structured LLMs - [Structured Data Extraction](https://docs.llamaindex.ai/en/stable/understanding/extraction/structured_llms/)"
   ]
  },
  {
   "cell_type": "code",
   "execution_count": null,
   "id": "58d3a2fb",
   "metadata": {},
   "outputs": [],
   "source": []
  },
  {
   "cell_type": "markdown",
   "id": "d5ef2fba",
   "metadata": {},
   "source": []
  }
 ],
 "metadata": {
  "kernelspec": {
   "display_name": ".venv (3.12.10)",
   "language": "python",
   "name": "python3"
  },
  "language_info": {
   "codemirror_mode": {
    "name": "ipython",
    "version": 3
   },
   "file_extension": ".py",
   "mimetype": "text/x-python",
   "name": "python",
   "nbconvert_exporter": "python",
   "pygments_lexer": "ipython3",
   "version": "3.12.10"
  }
 },
 "nbformat": 4,
 "nbformat_minor": 5
}
